{
 "cells": [
  {
   "cell_type": "code",
   "execution_count": null,
   "id": "02951f36-55b0-4d7f-ab5a-e80a077c5d54",
   "metadata": {},
   "outputs": [],
   "source": [
    "import random \n",
    "\n",
    "def roll_dice(number_of_dice, number_of_sides):\n",
    "    print(f'Rolling {number_of_dice} with {number_of_sides} sides each...')\n",
    "    rolls = []\n",
    "    for i in range(number_of_dice):\n",
    "        roll = random.randint(1,number_of_sides)\n",
    "        rolls.append(roll)\n",
    "        print(f'rolled {roll}')\n",
    "        \n",
    "    \n",
    "    total = sum(rolls)\n",
    "    highest = max(rolls)\n",
    "    print(f'The total is {total}')\n",
    "    print(f'The highest number rolled was {highest}')"
   ]
  },
  {
   "cell_type": "code",
   "execution_count": null,
   "id": "5a72c20a-1d42-49d2-b878-23198b8388ab",
   "metadata": {},
   "outputs": [],
   "source": [
    "roll_dice(5, 20)"
   ]
  },
  {
   "cell_type": "code",
   "execution_count": null,
   "id": "dcac4bf1-2314-42dd-93b4-0bc6371a6597",
   "metadata": {},
   "outputs": [],
   "source": [
    "try:  \n",
    "    number_of_dice = int(input('Enter number of dice'))\n",
    "    if number_of_dice <= 0:\n",
    "        raise ValueError\n",
    "    number_of_sides = int(input('Enter number of sides'))\n",
    "    if number_of_sides <= 0:\n",
    "        raise ValueError\n",
    "    results = roll_dice(number_of_dice, number_of_sides)\n",
    "    \n",
    "except ValueError:\n",
    "    print('Invalid Input: Positive Values Only', 'Try Again!', sep ='\\n')"
   ]
  },
  {
   "cell_type": "code",
   "execution_count": null,
   "id": "8766babf-ad39-4594-a372-601460644af4",
   "metadata": {},
   "outputs": [],
   "source": []
  }
 ],
 "metadata": {
  "kernelspec": {
   "display_name": "Python 3 (ipykernel)",
   "language": "python",
   "name": "python3"
  },
  "language_info": {
   "codemirror_mode": {
    "name": "ipython",
    "version": 3
   },
   "file_extension": ".py",
   "mimetype": "text/x-python",
   "name": "python",
   "nbconvert_exporter": "python",
   "pygments_lexer": "ipython3",
   "version": "3.9.12"
  }
 },
 "nbformat": 4,
 "nbformat_minor": 5
}
